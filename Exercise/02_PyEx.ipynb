{
 "cells": [
  {
   "cell_type": "markdown",
   "metadata": {
    "id": "5jfhGHJYYtgB"
   },
   "source": [
    "# 02 - Beginner Exercises\n",
    "\n",
    "\n",
    "*   Type Conversion  \n",
    "*   Data Structure \n"
   ]
  },
  {
   "cell_type": "markdown",
   "metadata": {
    "id": "a04GO4nXZvW6"
   },
   "source": [
    "## 🍑🍑\n",
    "1.Ali's math score is ```19.5```. First we ask you to create a variable called the ```math_score``` and set it to ```19.5``` Then print the type of this variable using the ```type()``` function. Then, since in Ali's school, it is customary not to print grades in decimal in the report card, so you also define a variable called the ```final_score``` and convert the score into the integer and then print it. "
   ]
  },
  {
   "cell_type": "code",
   "execution_count": 3,
   "metadata": {
    "id": "197gqpPiOpuX"
   },
   "outputs": [
    {
     "data": {
      "text/plain": [
       "float"
      ]
     },
     "execution_count": 3,
     "metadata": {},
     "output_type": "execute_result"
    }
   ],
   "source": [
    "# Write your own code in this cell \n",
    "math_score = 19.5\n",
    "type(math_score)"
   ]
  },
  {
   "cell_type": "code",
   "execution_count": 5,
   "metadata": {},
   "outputs": [
    {
     "name": "stdout",
     "output_type": "stream",
     "text": [
      "19\n"
     ]
    }
   ],
   "source": [
    "print(int(math_score))"
   ]
  },
  {
   "cell_type": "markdown",
   "metadata": {
    "id": "2QiithKMdGsJ"
   },
   "source": [
    "## 🍑\n",
    "\n",
    "2.Sara analyzes a company's data.\n",
    "This data contains a variable named ```employed``` For each person who has been looking for a job in this company.\n",
    "If a person is employed, its value is equal to ```1```; otherwise, it is equal to ```0```.\n",
    "Help Sara with converting her data to ```True``` or ```False```.   "
   ]
  },
  {
   "cell_type": "code",
   "execution_count": 6,
   "metadata": {
    "id": "xdaDnO1MgIpR"
   },
   "outputs": [
    {
     "name": "stdout",
     "output_type": "stream",
     "text": [
      "\n",
      "{'Ebrahim Hamedi': False, 'Hassan Shamaizadeh': True}\n"
     ]
    }
   ],
   "source": [
    "# Write your own code in this cell \n",
    "\n",
    "# id = \"x3q\"\n",
    "x3q_name = \"Ebrahim Hamedi\"\n",
    "x3q_employed = 0\n",
    "\n",
    "print()\n",
    "\n",
    "# id = \"b2w\"\n",
    "b2w_name = \"Hassan Shamaizadeh\"\n",
    "b2w_employed = 1\n",
    "\n",
    "final_employed = {\n",
    "    x3q_name : x3q_employed,\n",
    "    b2w_name : b2w_employed\n",
    "}\n",
    "for i in final_employed:\n",
    "    if final_employed[i] == 0:\n",
    "        final_employed[i] = False\n",
    "    else:\n",
    "        final_employed[i] = True\n",
    "print(final_employed)"
   ]
  },
  {
   "cell_type": "markdown",
   "metadata": {
    "id": "cCNwf3kFkT_V"
   },
   "source": [
    "## 🍑\n",
    "3.Sara later realizes that the company has a variable named ```desired_salary``` that is kept in a string of letters, making following calculation hard for her, so she decides to change it to the integer.\n",
    "Kindly help Sara to do that and then by using the ```type()``` function print the final variable type. \n"
   ]
  },
  {
   "cell_type": "code",
   "execution_count": 41,
   "metadata": {
    "id": "vz3Zgq-PmNES"
   },
   "outputs": [
    {
     "name": "stdout",
     "output_type": "stream",
     "text": [
      "desired salary of x3q_desired_salary was 31000.\n",
      "the type of his salary is <class 'int'>\n",
      "desired salary of b2w_desired_salary was 15000.\n",
      "the type of his salary is <class 'int'>\n"
     ]
    }
   ],
   "source": [
    "# Write your own code in this cell \n",
    "def auto_conv_to_int(var):\n",
    "    x=0\n",
    "    for ch in var:\n",
    "        x = x*10 +ord(ch)-ord('0')\n",
    "    return x\n",
    "# id = \"x3q\"\n",
    "x3q_desired_salary = \"31000\"\n",
    "\n",
    "\n",
    "# id = \"b2w\"\n",
    "b2w_desired_salary = \"15000\"\n",
    "\n",
    "\n",
    "data = {\n",
    "    'x3q_desired_salary' : \"31000\",\n",
    "    'b2w_desired_salary' : \"15000\",\n",
    "       }\n",
    "j = -1\n",
    "for i in data:\n",
    "    data[i] = auto_conv_to_int(data[i])\n",
    "    j += 1\n",
    "    print(f'desired salary of {[i for i in data.keys()][j]} was {data[i]}.')\n",
    "    print(f'the type of his salary is {type(data[i])}')"
   ]
  },
  {
   "cell_type": "markdown",
   "metadata": {
    "id": "yNPW0iQunaL2"
   },
   "source": [
    " ## 🍑🍑\n",
    "4.Create an empty list, an empty dictionary, an empty set, and an empty tuple, then print their values and types.  \n",
    " "
   ]
  },
  {
   "cell_type": "code",
   "execution_count": 46,
   "metadata": {
    "colab": {
     "base_uri": "https://localhost:8080/"
    },
    "executionInfo": {
     "elapsed": 547,
     "status": "ok",
     "timestamp": 1635338835963,
     "user": {
      "displayName": "Signor Sina",
      "photoUrl": "https://lh3.googleusercontent.com/a-/AOh14Gi4OFfRcTU4JhJytZ9wTQ0A98J6AQSzsZR-Un5Dag=s64",
      "userId": "02449268140050646481"
     },
     "user_tz": -210
    },
    "id": "QTp-o6tUpP1W",
    "outputId": "793cc156-3ddb-46a4-99f3-ddbc3b19e7d0"
   },
   "outputs": [
    {
     "name": "stdout",
     "output_type": "stream",
     "text": [
      "<class 'list'> [] <class 'tuple'> () <class 'dict'> {} <class 'set'> set()\n"
     ]
    }
   ],
   "source": [
    "# Write your own code in this cell\n",
    "x1 = []\n",
    "x2 = ()\n",
    "x3 = {}\n",
    "x4 = set()\n",
    "print(type(x1), x1, type(x2), x2, type(x3), x3, type(x4), x4)"
   ]
  },
  {
   "cell_type": "markdown",
   "metadata": {
    "id": "_nPYP7KKrCSH"
   },
   "source": [
    "## 🍑\n",
    "\n",
    "5.Create a list and add the first five terms of the Fibonacci sequence and print it, then add the sixth term and print it again. \n"
   ]
  },
  {
   "cell_type": "code",
   "execution_count": 60,
   "metadata": {
    "id": "zP78AXyOrFZs"
   },
   "outputs": [
    {
     "name": "stdout",
     "output_type": "stream",
     "text": [
      "enter the how much term you need to see from Fibonacci sequence: 6\n",
      "[0, 1, 1, 2, 3, 5]\n"
     ]
    }
   ],
   "source": [
    "# Write your own code in this cell\n",
    "Fibonacci=[]\n",
    "x = int(input('enter the how much term you need to see from Fibonacci sequence: '))\n",
    "for i in range(x):\n",
    "    if i < 2:\n",
    "        Fibonacci.append(i)\n",
    "    else:\n",
    "        Fibonacci.append(Fibonacci[i-1] + Fibonacci[i-2])\n",
    "    \n",
    "print(Fibonacci)"
   ]
  },
  {
   "cell_type": "markdown",
   "metadata": {
    "id": "bmA6hNS2vQY7"
   },
   "source": [
    "## 🍑\n",
    "\n",
    "6.Create a set and add the first five terms of the Fibonacci sequence and print it, then add the sixth term and print it again. \n",
    "  - compare the results of these cell with the previous cell. \n"
   ]
  },
  {
   "cell_type": "code",
   "execution_count": 80,
   "metadata": {
    "id": "oIDgdvgQvrM1"
   },
   "outputs": [
    {
     "name": "stdout",
     "output_type": "stream",
     "text": [
      "enter the how much term you need to see from Fibonacci sequence: 5\n",
      "{0, 1, 2, 3}\n"
     ]
    }
   ],
   "source": [
    "# Write your own code in this cell\n",
    "Fibonacci_set=set()\n",
    "x = int(input('enter the how much term you need to see from Fibonacci sequence: '))\n",
    "for i in range(x):\n",
    "    if i < 2:\n",
    "        Fibonacci_set.add(i)\n",
    "        j0 = 0\n",
    "        j1 = 1\n",
    "        j2 = 0\n",
    "        j = [j0, j1, j2]\n",
    "    else:\n",
    "        j[2] = j[0] + j[1]\n",
    "        j[0] = j[1]\n",
    "        j[1] = j[2]\n",
    "        Fibonacci_set.add(j[2])\n",
    "print(Fibonacci_set) #one element of the Fibonacci sequence is disappearing in a set because the set can not have two elements of the same."
   ]
  },
  {
   "cell_type": "markdown",
   "metadata": {
    "id": "4JTh-P07wx5d"
   },
   "source": [
    "## ✍️\n",
    "\n",
    "7.Using the built-in ```tupel()``` function, try to create a tuple that contains only the sixth term of the Fibonacci sequence."
   ]
  },
  {
   "cell_type": "code",
   "execution_count": 217,
   "metadata": {
    "id": "Fpida9oowFiE"
   },
   "outputs": [],
   "source": [
    "# Write your own code in this cell\n",
    "def Fibonacci_tuple(x):\n",
    "    Fibonacci_tuple=()\n",
    "    for i in range(x):\n",
    "        if i < 2:\n",
    "            Fibonacci_tuple += (i,)\n",
    "            j0 = 0\n",
    "            j1 = 1\n",
    "            j2 = 0\n",
    "            j = [j0, j1, j2]\n",
    "        else:\n",
    "            j[2] = j[0] + j[1]\n",
    "            j[0] = j[1]\n",
    "            j[1] = j[2]\n",
    "            Fibonacci_tuple += (j[2],)\n",
    "    print(Fibonacci_tuple)"
   ]
  },
  {
   "cell_type": "code",
   "execution_count": 219,
   "metadata": {},
   "outputs": [
    {
     "name": "stdout",
     "output_type": "stream",
     "text": [
      "enter the how much term you need to see from Fibonacci sequence: 9\n",
      "(0, 1, 1, 2, 3, 5, 8, 13, 21)\n"
     ]
    }
   ],
   "source": [
    "x = int(input('enter the how much term you need to see from Fibonacci sequence: '))\n",
    "Fibonacci_tuple(x)"
   ]
  },
  {
   "cell_type": "markdown",
   "metadata": {
    "id": "JotzCp72tayF"
   },
   "source": [
    "## 🎃\n",
    "\n",
    "8.Help Sara in creating a dictionary which key is equal to  person's ID [*x3q, b2m*] and values are just another dictionary with the following keys: ```name``` , ```desired_salary```, ```employed``` \n",
    "and print this dictionary."
   ]
  },
  {
   "cell_type": "code",
   "execution_count": 233,
   "metadata": {
    "executionInfo": {
     "elapsed": 569,
     "status": "ok",
     "timestamp": 1635339595943,
     "user": {
      "displayName": "Signor Sina",
      "photoUrl": "https://lh3.googleusercontent.com/a-/AOh14Gi4OFfRcTU4JhJytZ9wTQ0A98J6AQSzsZR-Un5Dag=s64",
      "userId": "02449268140050646481"
     },
     "user_tz": -210
    },
    "id": "IipBR-UUuKpy"
   },
   "outputs": [],
   "source": [
    "# Write your own code in this cell\n",
    "data = {\n",
    "    \"x3q\" : {\n",
    "        \"name\" : \"Ebrahim Hamedi\",\n",
    "        \"desired_salary\" : 31000,\n",
    "        \"employed\" : False,\n",
    "    },\n",
    "    \"b2m\" : {\n",
    "        \"name\" : \"Hassan Shamaizadeh\",\n",
    "        \"desired_salary\" : 15000,\n",
    "        \"employed\" : True,\n",
    "    },\n",
    "}"
   ]
  },
  {
   "cell_type": "code",
   "execution_count": 234,
   "metadata": {},
   "outputs": [
    {
     "data": {
      "text/plain": [
       "{'x3q': {'name': 'Ebrahim Hamedi', 'desired_salary': 31000, 'employed': False},\n",
       " 'b2m': {'name': 'Hassan Shamaizadeh',\n",
       "  'desired_salary': 15000,\n",
       "  'employed': True}}"
      ]
     },
     "execution_count": 234,
     "metadata": {},
     "output_type": "execute_result"
    }
   ],
   "source": [
    "data"
   ]
  }
 ],
 "metadata": {
  "colab": {
   "authorship_tag": "ABX9TyONf+CrjKL4FrC1Fn6iTgtO",
   "collapsed_sections": [],
   "name": "02-PyEx.ipynb",
   "provenance": []
  },
  "kernelspec": {
   "display_name": "Python 3 (ipykernel)",
   "language": "python",
   "name": "python3"
  },
  "language_info": {
   "codemirror_mode": {
    "name": "ipython",
    "version": 3
   },
   "file_extension": ".py",
   "mimetype": "text/x-python",
   "name": "python",
   "nbconvert_exporter": "python",
   "pygments_lexer": "ipython3",
   "version": "3.8.16"
  }
 },
 "nbformat": 4,
 "nbformat_minor": 4
}
