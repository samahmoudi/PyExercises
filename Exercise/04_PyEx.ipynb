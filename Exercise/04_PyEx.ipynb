{
 "cells": [
  {
   "cell_type": "markdown",
   "metadata": {
    "id": "60Mnjbdkbcxc"
   },
   "source": [
    "# 04 - Beginner Exercises\n",
    "\n",
    "* List\n",
    "\n",
    "\n",
    "---\n"
   ]
  },
  {
   "cell_type": "markdown",
   "metadata": {
    "id": "pkqjqPrWb30d"
   },
   "source": [
    "## 🍓🍓🍓\n",
    "1.Make a variable named ```item0``` and set its value to the first item in the list below. "
   ]
  },
  {
   "cell_type": "code",
   "execution_count": 2,
   "metadata": {
    "id": "KPG884_PcUVw"
   },
   "outputs": [
    {
     "name": "stdout",
     "output_type": "stream",
     "text": [
      "1\n"
     ]
    }
   ],
   "source": [
    "# Write your own code in this cell\n",
    "mylist = [1, 3, 6, 10, 15, 21, 28, 36, 45, 55, 66, 78]\n",
    "item0 = mylist[0]\n",
    "\n",
    "print(item0)"
   ]
  },
  {
   "cell_type": "markdown",
   "metadata": {
    "id": "sm7dEtBvcJ7P"
   },
   "source": [
    "## 🍓🍓🍓\n",
    "2.Print the second item in the list directly by the ```print()``` function."
   ]
  },
  {
   "cell_type": "code",
   "execution_count": 3,
   "metadata": {
    "id": "4a07z0QecWSw"
   },
   "outputs": [
    {
     "name": "stdout",
     "output_type": "stream",
     "text": [
      "3\n"
     ]
    }
   ],
   "source": [
    "# Write your own code in this cell\n",
    "mylist = [1, 3, 6, 10, 15, 21, 28, 36, 45, 55, 66, 78]\n",
    "\n",
    "print(mylist[1])"
   ]
  },
  {
   "cell_type": "markdown",
   "metadata": {
    "id": "CzdwovQwcKk0"
   },
   "source": [
    "## 🍓🍓🍓\n",
    "3.Print the last item in this list. \n"
   ]
  },
  {
   "cell_type": "code",
   "execution_count": 4,
   "metadata": {
    "id": "mfsXxG2GcXLg"
   },
   "outputs": [
    {
     "name": "stdout",
     "output_type": "stream",
     "text": [
      "78\n"
     ]
    }
   ],
   "source": [
    "# Write your own code in this cell\n",
    "mylist = [1, 3, 6, 10, 15, 21, 28, 36, 45, 55, 66, 78]\n",
    "print(mylist[-1])"
   ]
  },
  {
   "cell_type": "markdown",
   "metadata": {
    "id": "439xMCPZcLAj"
   },
   "source": [
    "## 🍓🍓🍓\n",
    "4.The ```append()``` method allows you to add items to your lists. \n",
    "add the string ***\"R\"*** to the below list with ```append()``` method."
   ]
  },
  {
   "cell_type": "code",
   "execution_count": 6,
   "metadata": {
    "id": "i8pA3xMlcXwy"
   },
   "outputs": [
    {
     "name": "stdout",
     "output_type": "stream",
     "text": [
      "['Julia', 'Python', 'R']\n"
     ]
    }
   ],
   "source": [
    "# Write your own code in this cell\n",
    "mylist = [\"Julia\", \"Python\"]\n",
    "\n",
    "mylist.append(\"R\")\n",
    "print(mylist)"
   ]
  },
  {
   "cell_type": "markdown",
   "metadata": {
    "id": "J5fCOCPAcLaI"
   },
   "source": [
    "## 🍓🍓🍓\n",
    "5.Lists can contain a wide variety of data.\n",
    "You can even add another list as an object to a list.\n",
    "In Python, this is referred to as ***nested data***. \n",
    "Append another list including ```\"SQL\"``` and ```\"Scala\"``` to the bottom of my list. "
   ]
  },
  {
   "cell_type": "code",
   "execution_count": 7,
   "metadata": {
    "id": "pbURGS19cYV_"
   },
   "outputs": [
    {
     "name": "stdout",
     "output_type": "stream",
     "text": [
      "['Julia', 'Python', 'R', ['SQL', 'Scala']]\n"
     ]
    }
   ],
   "source": [
    "# Write your own code in this cell\n",
    "sublist = [\"SQL\", \"Scala\"]\n",
    "mylist.append(sublist)\n",
    "\n",
    "print(mylist)"
   ]
  },
  {
   "cell_type": "markdown",
   "metadata": {
    "id": "bV-jeUlScLyr"
   },
   "source": [
    "## 🍓🍓🍓\n",
    "6.```insert()``` allows the user to specify the index to which your object should be appended. \n",
    "So add ```\"C++\"``` to the ***0*** index of ```mylist```. "
   ]
  },
  {
   "cell_type": "code",
   "execution_count": 9,
   "metadata": {
    "id": "UD4Vw_w-cY2G"
   },
   "outputs": [
    {
     "name": "stdout",
     "output_type": "stream",
     "text": [
      "['C++', 'Julia', 'Python', 'R', ['SQL', 'Scala']]\n"
     ]
    }
   ],
   "source": [
    "# Write your own code in this cell\n",
    "mylist.insert(0, \"C++\")\n",
    "\n",
    "print(mylist)"
   ]
  },
  {
   "cell_type": "markdown",
   "metadata": {
    "id": "zSCo1oSNcMK8"
   },
   "source": [
    "## 🍓🍓🍓\n",
    "7.You can find out the index number of an item in your list by using the ```index()``` method. \n",
    "The following list is a factorial list of one-digit numbers.\n",
    "Use the index method to determine the factorial of which one-digit number is equal to **5040**. "
   ]
  },
  {
   "cell_type": "code",
   "execution_count": 11,
   "metadata": {
    "id": "ROygqK6xcZlv"
   },
   "outputs": [
    {
     "data": {
      "text/plain": [
       "7"
      ]
     },
     "execution_count": 11,
     "metadata": {},
     "output_type": "execute_result"
    }
   ],
   "source": [
    "# Write your own code in this cell\n",
    "mylist = [0, 1, 2, 6, 24, 120, 720, 5040, 40320, 362880]\n",
    "mylist.index(5040)"
   ]
  },
  {
   "cell_type": "markdown",
   "metadata": {
    "id": "z5_WllpScMiH"
   },
   "source": [
    "## 🍓🍓🍓\n",
    "8.The ```remove()``` method is used to remove specific element from a list. remove the number that is not a square number from ```mylist```"
   ]
  },
  {
   "cell_type": "code",
   "execution_count": 26,
   "metadata": {
    "id": "Wcbu3vgkcaT_"
   },
   "outputs": [
    {
     "name": "stdout",
     "output_type": "stream",
     "text": [
      "[0, 1, 25, 16, 9, 49, 81, 36, 4]\n"
     ]
    }
   ],
   "source": [
    "# Write your own code in this cell\n",
    "import math\n",
    "mylist=[0, 1, 25, 16, 9, 49, 81, 36, 4, 65]\n",
    "mylist.remove(*tuple(i for i in mylist if round(math.sqrt(i)) != math.sqrt(i)))\n",
    "print(mylist)"
   ]
  },
  {
   "cell_type": "markdown",
   "metadata": {
    "id": "VXfCH3DgcM45"
   },
   "source": [
    "## 🍓🍓🍓\n",
    "9.Reverse ```mylist``` using the ```reverse() ``` method. "
   ]
  },
  {
   "cell_type": "code",
   "execution_count": 30,
   "metadata": {
    "id": "EsMdBqJ5cbBK"
   },
   "outputs": [
    {
     "name": "stdout",
     "output_type": "stream",
     "text": [
      "[0, 1, 6, 15, 28, 45]\n"
     ]
    }
   ],
   "source": [
    "# Write your own code in this cell\n",
    "mylist = [45, 28, 15, 6, 1, 0]\n",
    "mylist.reverse()\n",
    "print(mylist)"
   ]
  },
  {
   "cell_type": "markdown",
   "metadata": {
    "id": "Qx6O1yM9cNRx"
   },
   "source": [
    "## 🍓🍓🍓\n",
    "10.Count how many times the number ***0*** appears in  ```mylist``` using the ```count()``` function. "
   ]
  },
  {
   "cell_type": "code",
   "execution_count": 31,
   "metadata": {
    "id": "qMEuZ-05cbmt"
   },
   "outputs": [
    {
     "data": {
      "text/plain": [
       "14"
      ]
     },
     "execution_count": 31,
     "metadata": {},
     "output_type": "execute_result"
    }
   ],
   "source": [
    "# Write your own code in this cell\n",
    "mylist = [0, 0, 1, 0, 0, 1, 6, 0, 1, 0, 2, 1, 6, 6, 1, 0, 16, 1, 18, 0, 6, 2, 22, 1, 0, 6, 3, 6, 28, 1, 15, 0, 2, 16, 6, 1, 3, 18, 6, 0, 5, 6, 21, 2, 1, 22, 46, 1, 42, 0, 16, 6, 13, 3, 2, 6, 18, 28, 58, 1, 60, 15, 6, 0, 6, 2, 33, 16, 22, 6, 35, 1, 8, 3, 1, 18, 6, 6, 13, 0, 9, 5, 41, 6, 16, 21, 28, 2, 44, 1]\n",
    "mylist.count(0)"
   ]
  },
  {
   "cell_type": "markdown",
   "metadata": {
    "id": "WoZ7IzIlcNoO"
   },
   "source": [
    "## 🍓🍓🍓\n",
    "11.Find the sum of the numbers in the following lists"
   ]
  },
  {
   "cell_type": "code",
   "execution_count": 40,
   "metadata": {
    "id": "FPxLuy1fccRy"
   },
   "outputs": [
    {
     "name": "stdout",
     "output_type": "stream",
     "text": [
      "34\n"
     ]
    }
   ],
   "source": [
    "# Write your own code in this cell\n",
    "list_1 = [1, 2, 3]\n",
    "list_2 = [1, 2, 4, 7, 14]\n",
    "total_sum = sum(list_1) + sum(list_2)\n",
    "print(total_sum)"
   ]
  },
  {
   "cell_type": "markdown",
   "metadata": {
    "id": "FO7sbZ1ZcN_B"
   },
   "source": [
    "## 🍓🍓\n",
    "12.Samad encountered a long list of ```True``` and ```False``` in a scientific study.\n",
    "This list indicates whether or not each individual is a smoker.\n",
    "Using the ```sum()``` method, can you tell us how many individuals on this list are smokers? "
   ]
  },
  {
   "cell_type": "code",
   "execution_count": 45,
   "metadata": {
    "id": "TEE7DGVXcc7K"
   },
   "outputs": [
    {
     "data": {
      "text/plain": [
       "24"
      ]
     },
     "execution_count": 45,
     "metadata": {},
     "output_type": "execute_result"
    }
   ],
   "source": [
    "# Write your own code in this cell\n",
    "samad_list = [True, False, False, True, False, True, False, False, True, False, True, False, False, True, True, False, False, True, False, True, False, False , True, False, True, False, False , True, True, False, False, True, False, True, False, False , True, False, True, False, False, True, True, False, False , True, False, True, False, False , True, False, True, False, False , True]\n",
    "\n",
    "sum(samad_list[i] for i in range(len(samad_list)) if samad_list[i])"
   ]
  },
  {
   "cell_type": "markdown",
   "metadata": {
    "id": "TGTG8TXIcOWM"
   },
   "source": [
    "## 🍓\n",
    "13.calculate the ***maximum***, ***minimum***, ***sum*** and ***mean*** of the following data. "
   ]
  },
  {
   "cell_type": "code",
   "execution_count": 52,
   "metadata": {
    "id": "Ke6qYZ4ycdnq"
   },
   "outputs": [
    {
     "name": "stdout",
     "output_type": "stream",
     "text": [
      "147.41 -159.04 -52.63 -1.5948\n"
     ]
    }
   ],
   "source": [
    "from statistics import mean\n",
    "# Write your own code in this cell\n",
    "mylist = [-31.39, 18.35 , 147.41, 137.18, -102.85, -46.58, 118.94,\n",
    "          -126.78, -10.26, -139.1, 75.75, 59.18, 71.07, -68.76, 1.18,\n",
    "          -18.88, 3.43, -82.71, -34.02, -93.1, -80.57, -2.88, 114.47,\n",
    "          89.67, 97.64, -78.68, 43.39, 11.57, 79.72, 73.24, -121.54,\n",
    "          2.32, -159.04]\n",
    "\n",
    "print(max(mylist), min(mylist), round(sum(mylist), 4), round(mean(mylist), 4))\n",
    "          "
   ]
  }
 ],
 "metadata": {
  "colab": {
   "collapsed_sections": [],
   "name": "04-PyEx.ipynb",
   "provenance": []
  },
  "kernelspec": {
   "display_name": "Python 3 (ipykernel)",
   "language": "python",
   "name": "python3"
  },
  "language_info": {
   "codemirror_mode": {
    "name": "ipython",
    "version": 3
   },
   "file_extension": ".py",
   "mimetype": "text/x-python",
   "name": "python",
   "nbconvert_exporter": "python",
   "pygments_lexer": "ipython3",
   "version": "3.8.16"
  }
 },
 "nbformat": 4,
 "nbformat_minor": 4
}
