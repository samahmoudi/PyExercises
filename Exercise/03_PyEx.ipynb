{
 "cells": [
  {
   "cell_type": "markdown",
   "metadata": {
    "id": "9P1nZEroRpIg"
   },
   "source": [
    "# 03 - Beginner Exercises\n",
    "\n",
    "\n",
    "*   String \n",
    "\n",
    "\n",
    "---\n",
    "\n",
    "\n",
    "\n",
    "\n",
    "## 🍉🍉🍉\n",
    "\n",
    "1.Assign the string below to the variable.\n",
    "\n",
    "\"**I’m just highly motivated to do nothing**\""
   ]
  },
  {
   "cell_type": "code",
   "execution_count": 1,
   "metadata": {
    "id": "Jy6Adr0ARlzI"
   },
   "outputs": [
    {
     "name": "stdout",
     "output_type": "stream",
     "text": [
      "I’m just highly motivated to do nothing\n"
     ]
    }
   ],
   "source": [
    "# Write your own code in this cell \n",
    "mystring = \"I’m just highly motivated to do nothing\"\n",
    "print(\"I’m just highly motivated to do nothing\")"
   ]
  },
  {
   "cell_type": "markdown",
   "metadata": {
    "id": "nL3ZMbuVSV91"
   },
   "source": [
    "## 🍉🍉🍉\n",
    "\n",
    "2.By using **last** , **fifth** and **one before the last** characters of the ```mystring```, create a new string."
   ]
  },
  {
   "cell_type": "code",
   "execution_count": 6,
   "metadata": {
    "id": "0oth7yoZUoLp"
   },
   "outputs": [
    {
     "name": "stdout",
     "output_type": "stream",
     "text": [
      "g u n\n"
     ]
    }
   ],
   "source": [
    "# Write your own code in this cell\n",
    "mystring_last = mystring[-1]\n",
    "mystring_fifth = mystring[5]\n",
    "mystring_one_before_the_last = mystring[-2]\n",
    "\n",
    "print(mystring_last, mystring_fifth, mystring_one_before_the_last)"
   ]
  },
  {
   "cell_type": "markdown",
   "metadata": {
    "id": "KS_Do1ZsSWmH"
   },
   "source": [
    "## 🍉🍉🍉\n",
    "\n",
    "3.replace **g** with **s** in ```mystring``` using ```replace()``` method"
   ]
  },
  {
   "cell_type": "code",
   "execution_count": 9,
   "metadata": {
    "id": "DJzs_0y-VouU"
   },
   "outputs": [
    {
     "name": "stdout",
     "output_type": "stream",
     "text": [
      "I’m just hishly motivated to do nothins\n"
     ]
    }
   ],
   "source": [
    "# Write your own code in this cell\n",
    "\n",
    "mystring = mystring.replace('g' , 's')\n",
    "\n",
    "print(mystring)"
   ]
  },
  {
   "cell_type": "markdown",
   "metadata": {
    "id": "ArsDxqEKmRrh"
   },
   "source": [
    "## 🍉🍉\n",
    "\n",
    "4.The following string of characters appears to be reversed; please fix it and print the result. \n",
    "**\".enod er’uoy nehw wonk reven uoy ,drah si gnihton gnioD\"** "
   ]
  },
  {
   "cell_type": "code",
   "execution_count": 24,
   "metadata": {
    "id": "3d8iFPOImUAW"
   },
   "outputs": [
    {
     "name": "stdout",
     "output_type": "stream",
     "text": [
      "Doing nothing is hard, you never know when you’re done.\n"
     ]
    }
   ],
   "source": [
    "# Write your own code in this cell\n",
    "mystr1 = \".enod er’uoy nehw wonk reven uoy ,drah si gnihton gnioD\"\n",
    "mystr2 = \"\"\n",
    "for i in range(len(mystr1)):\n",
    "    mystr2 += mystr1[-1-i]\n",
    "print(mystr2)\n",
    "    "
   ]
  },
  {
   "cell_type": "code",
   "execution_count": 23,
   "metadata": {},
   "outputs": [
    {
     "name": "stdout",
     "output_type": "stream",
     "text": [
      "Doing nothing is hard, you never know when you’re done.\n"
     ]
    }
   ],
   "source": []
  },
  {
   "cell_type": "markdown",
   "metadata": {
    "id": "pR-EDJhBSW_P"
   },
   "source": [
    "## 🍉🍉\n",
    "\n",
    "5.Reassign ```mystring``` with this pharase **\"Friday, my second favorite F word.\"**  and use one of the built-in methods for strings to lowercase all the characters."
   ]
  },
  {
   "cell_type": "code",
   "execution_count": 27,
   "metadata": {
    "id": "T4cmTSyeWZ99"
   },
   "outputs": [
    {
     "name": "stdout",
     "output_type": "stream",
     "text": [
      "friday, my second favorite f word.\n"
     ]
    }
   ],
   "source": [
    "# Write your own code in this cell\n",
    "\n",
    "mystring = \"Friday, my second favorite F word.\"\n",
    "mystring = mystring.lower()\n",
    "print(mystring)"
   ]
  },
  {
   "cell_type": "markdown",
   "metadata": {
    "id": "TAwR3oMfSXZX"
   },
   "source": [
    "## 🍉🍉\n",
    "\n",
    "6.Use a built-in method to check if ```mystring``` end with a \".\" "
   ]
  },
  {
   "cell_type": "code",
   "execution_count": 29,
   "metadata": {
    "id": "-srD8lB4dvnM"
   },
   "outputs": [
    {
     "name": "stdout",
     "output_type": "stream",
     "text": [
      "True\n"
     ]
    }
   ],
   "source": [
    "# Write your own code in this cell\n",
    "# True or False\n",
    "check = True if mystring[-1] == \".\" else False\n",
    "print(check)"
   ]
  },
  {
   "cell_type": "markdown",
   "metadata": {
    "id": "xTkklNNkSXx4"
   },
   "source": [
    "## 🍉🍉\n",
    "\n",
    "7.Print ```mystring``` and then \n",
    "Using index() method, identify the index of character: (**f**) in ```mystring```"
   ]
  },
  {
   "cell_type": "code",
   "execution_count": 38,
   "metadata": {
    "id": "AxrVZbCYeyut"
   },
   "outputs": [
    {
     "data": {
      "text/plain": [
       "0"
      ]
     },
     "execution_count": 38,
     "metadata": {},
     "output_type": "execute_result"
    }
   ],
   "source": [
    "# Write your own code in this cell\n",
    "mystring.index('f')"
   ]
  },
  {
   "cell_type": "markdown",
   "metadata": {
    "id": "ftnmNs2-SYOD"
   },
   "source": [
    "## 🍉\n",
    "\n",
    "8.As you can see, in the previous exercise we had another **f** character in the ```mystring```, but we got the index of the first **f**. Can you find the index of the last **f** using a built-in method?"
   ]
  },
  {
   "cell_type": "code",
   "execution_count": 48,
   "metadata": {
    "id": "KJdbJD-Dg0Ed"
   },
   "outputs": [
    {
     "data": {
      "text/plain": [
       "27"
      ]
     },
     "execution_count": 48,
     "metadata": {},
     "output_type": "execute_result"
    }
   ],
   "source": [
    "# Write your own code in this cell\n",
    "mystring.rindex('f')"
   ]
  },
  {
   "cell_type": "markdown",
   "metadata": {
    "id": "zBka78gfjSSp"
   },
   "source": [
    "## 🍉\n",
    "\n",
    "9.identify the index of character: (**F**) in ```mystring``` ,and then Explain the outcome "
   ]
  },
  {
   "cell_type": "code",
   "execution_count": 51,
   "metadata": {
    "id": "2RGQq_QzjwM7"
   },
   "outputs": [
    {
     "ename": "ValueError",
     "evalue": "substring not found",
     "output_type": "error",
     "traceback": [
      "\u001b[0;31m---------------------------------------------------------------------------\u001b[0m",
      "\u001b[0;31mValueError\u001b[0m                                Traceback (most recent call last)",
      "Cell \u001b[0;32mIn[51], line 2\u001b[0m\n\u001b[1;32m      1\u001b[0m \u001b[38;5;66;03m# Write your own code in this cell\u001b[39;00m\n\u001b[0;32m----> 2\u001b[0m \u001b[43mmystring\u001b[49m\u001b[38;5;241;43m.\u001b[39;49m\u001b[43mindex\u001b[49m\u001b[43m(\u001b[49m\u001b[38;5;124;43m'\u001b[39;49m\u001b[38;5;124;43mF\u001b[39;49m\u001b[38;5;124;43m'\u001b[39;49m\u001b[43m)\u001b[49m\n",
      "\u001b[0;31mValueError\u001b[0m: substring not found"
     ]
    }
   ],
   "source": [
    "# Write your own code in this cell\n",
    "mystring.index('F')"
   ]
  },
  {
   "cell_type": "markdown",
   "metadata": {
    "id": "oK2gnCFVmqEn"
   },
   "source": [
    "## 🍉\n",
    "\n",
    "10.Using ```find()``` method, identify the index of character: **f** and **F** in ```mystring``` and compare the results with the previous exercise. "
   ]
  },
  {
   "cell_type": "code",
   "execution_count": 57,
   "metadata": {
    "id": "mwxchCBNmswL"
   },
   "outputs": [
    {
     "name": "stdout",
     "output_type": "stream",
     "text": [
      "-1 0 27\n"
     ]
    }
   ],
   "source": [
    "# Write your own code in this cell\n",
    "print(\n",
    "    mystring.find('F'),\n",
    "    mystring.find('f'),\n",
    "    mystring.rfind('f')\n",
    ")"
   ]
  },
  {
   "cell_type": "markdown",
   "metadata": {
    "id": "TEdOZ0bdSYqI"
   },
   "source": [
    "## 🍉\n",
    "\n",
    "11.Take a look at the following string and then make the string so that everything is properly and first letter is capital with one function."
   ]
  },
  {
   "cell_type": "code",
   "execution_count": 62,
   "metadata": {
    "id": "StxC-ueih6KC"
   },
   "outputs": [
    {
     "name": "stdout",
     "output_type": "stream",
     "text": [
      "I didn’t fall down, i did atttck the floor, though.\n"
     ]
    }
   ],
   "source": [
    "mystring = \"i DiDn’T fAll dOwN, i DId aTtTCk thE fLOor, tHough.\"\n",
    "mystring = mystring.capitalize()\n",
    "print(mystring)"
   ]
  },
  {
   "cell_type": "markdown",
   "metadata": {
    "id": "DBog1shUSZBF"
   },
   "source": [
    "## 🍉🍉\n",
    "\n",
    "12.Which character occur more often in the ```mystring```? \"e\" or \"o\" ? .Within the print function, print both counts."
   ]
  },
  {
   "cell_type": "code",
   "execution_count": 64,
   "metadata": {
    "id": "6s1Jnyx9k6ZS"
   },
   "outputs": [
    {
     "name": "stdout",
     "output_type": "stream",
     "text": [
      "count of e is:  13  count of o is:  6\n"
     ]
    }
   ],
   "source": [
    "# Write your own code in this cell\n",
    "mystring = \"A jellyfish has existed as a species for 500 million years, surviving just fine without a brain. That gives hope to quite a few people.\"\n",
    "count_e = mystring.count(\"e\")\n",
    "count_o = mystring.count(\"o\")\n",
    "print(\"count of e is: \", count_e , \" count of o is: \", count_o)"
   ]
  },
  {
   "cell_type": "markdown",
   "metadata": {
    "id": "E8NV-xh5SZXl"
   },
   "source": [
    "## 🍉🍉\n",
    "\n",
    "13.Using the print function, print the types of two given variables and print the length of ```number1```?"
   ]
  },
  {
   "cell_type": "code",
   "execution_count": 65,
   "metadata": {
    "id": "2PR0j_TCprnu"
   },
   "outputs": [
    {
     "name": "stdout",
     "output_type": "stream",
     "text": [
      "99.41 <class 'str'> 99.41\n"
     ]
    }
   ],
   "source": [
    "number1 = \"99.41\"\n",
    "number2 = 99.41\n",
    "print(number1, type(number1), number2)"
   ]
  },
  {
   "cell_type": "markdown",
   "metadata": {
    "id": "vkfj6OeOSZzz"
   },
   "source": [
    "## 🌶️\n",
    "\n",
    "14.Convert 99.41 to a string. Then add $ sign to this string and assign the result to the ```str``` variable and then print ```str```.\n",
    "Can you explain the result? "
   ]
  },
  {
   "cell_type": "code",
   "execution_count": 79,
   "metadata": {
    "id": "VJS0jMijqokb"
   },
   "outputs": [
    {
     "ename": "TypeError",
     "evalue": "'float' object is not callable",
     "output_type": "error",
     "traceback": [
      "\u001b[0;31m---------------------------------------------------------------------------\u001b[0m",
      "\u001b[0;31mTypeError\u001b[0m                                 Traceback (most recent call last)",
      "Cell \u001b[0;32mIn[79], line 2\u001b[0m\n\u001b[1;32m      1\u001b[0m number2 \u001b[38;5;241m=\u001b[39m \u001b[38;5;241m99.41\u001b[39m \n\u001b[0;32m----> 2\u001b[0m \u001b[38;5;28mstr\u001b[39m \u001b[38;5;241m=\u001b[39m \u001b[38;5;28;43mstr\u001b[39;49m\u001b[43m(\u001b[49m\u001b[43mnumber2\u001b[49m\u001b[43m)\u001b[49m\n\u001b[1;32m      4\u001b[0m \u001b[38;5;28mprint\u001b[39m(\u001b[38;5;28mstr\u001b[39m)\n",
      "\u001b[0;31mTypeError\u001b[0m: 'float' object is not callable"
     ]
    }
   ],
   "source": [
    "number2 = 99.41 \n",
    "str = str(number2)\n",
    "\n",
    "print(str)\n",
    "#We can't use built-in function names as variable names and reuse it in your code."
   ]
  },
  {
   "cell_type": "code",
   "execution_count": 80,
   "metadata": {},
   "outputs": [],
   "source": [
    "del str"
   ]
  },
  {
   "cell_type": "code",
   "execution_count": 82,
   "metadata": {},
   "outputs": [
    {
     "name": "stdout",
     "output_type": "stream",
     "text": [
      "99.41\n"
     ]
    }
   ],
   "source": [
    "number2 = 99.41 \n",
    "str1 = str(number2)\n",
    "\n",
    "print(str1)\n",
    "#When you rename the variable to something else, the problem is solved"
   ]
  }
 ],
 "metadata": {
  "colab": {
   "name": "03-PyExc.ipynb",
   "provenance": []
  },
  "kernelspec": {
   "display_name": "Python 3 (ipykernel)",
   "language": "python",
   "name": "python3"
  },
  "language_info": {
   "codemirror_mode": {
    "name": "ipython",
    "version": 3
   },
   "file_extension": ".py",
   "mimetype": "text/x-python",
   "name": "python",
   "nbconvert_exporter": "python",
   "pygments_lexer": "ipython3",
   "version": "3.8.16"
  }
 },
 "nbformat": 4,
 "nbformat_minor": 4
}
