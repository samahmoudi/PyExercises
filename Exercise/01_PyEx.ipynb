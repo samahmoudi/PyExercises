{
 "cells": [
  {
   "cell_type": "markdown",
   "metadata": {
    "id": "8Xbq_7w_nS2L"
   },
   "source": [
    "# 01 - Beginner Exercises\n",
    "\n",
    "\n",
    "*   print() function \n",
    "*   Variables \n",
    "*   Data Types  \n",
    "\n"
   ]
  },
  {
   "cell_type": "markdown",
   "metadata": {
    "id": "sz1jhyzqW2eJ"
   },
   "source": [
    "## 🍑🍑\n",
    "1.Write a code that outputs the phrase \"Hello, World!\" "
   ]
  },
  {
   "cell_type": "code",
   "execution_count": 741,
   "metadata": {
    "id": "F7iNc4S6Wmvl"
   },
   "outputs": [
    {
     "name": "stdout",
     "output_type": "stream",
     "text": [
      "Hellow world!\n"
     ]
    }
   ],
   "source": [
    "# Write your own code in this cell \n",
    "print(\"Hellow world!\")\n"
   ]
  },
  {
   "cell_type": "markdown",
   "metadata": {
    "id": "3kJ_tbqiX3-o"
   },
   "source": [
    "## 🍑🍑🍑\n",
    "\n",
    "2.Write a program that assigns the string \"Hello World\" to the variable ```mytext``` and then prints that variable.  \n"
   ]
  },
  {
   "cell_type": "code",
   "execution_count": 742,
   "metadata": {
    "id": "XvX4CtBxYqg1"
   },
   "outputs": [
    {
     "name": "stdout",
     "output_type": "stream",
     "text": [
      "Hellow world!\n"
     ]
    }
   ],
   "source": [
    "# Write your own code in this cell \n",
    "mytext = \"Hellow world!\"\n",
    "print(mytext)\n"
   ]
  },
  {
   "cell_type": "markdown",
   "metadata": {
    "id": "KoLufZe1ZZkb"
   },
   "source": [
    "## 🍑🍑🍑\n",
    "3.Using a single ```print()``` function, print the three values ```\"Ali\"```, ```\"Math\"``` and ```19.5```. "
   ]
  },
  {
   "cell_type": "code",
   "execution_count": 743,
   "metadata": {
    "id": "DCK32CbgZqNI"
   },
   "outputs": [
    {
     "name": "stdout",
     "output_type": "stream",
     "text": [
      "Ali Math 19.5\n"
     ]
    }
   ],
   "source": [
    "# Write your own code in this cell \n",
    "print(\"Ali\", \"Math\" , 19.5)"
   ]
  },
  {
   "cell_type": "markdown",
   "metadata": {
    "id": "oF-so8sTcRJt"
   },
   "source": [
    "## 🍑🍑\n",
    "4.Set the value of a variable called ```bottle_of_juice``` to **6**.\n",
    "Then print the phrase : **\"I have x bottles of juice today!\"**\n",
    "\n",
    "*(**x** should be replaced with the number of bottles!)*"
   ]
  },
  {
   "cell_type": "code",
   "execution_count": 744,
   "metadata": {
    "id": "UClaBeZadydf"
   },
   "outputs": [
    {
     "name": "stdout",
     "output_type": "stream",
     "text": [
      "I have 6 bottles of juice today!\n"
     ]
    }
   ],
   "source": [
    "# Write your own code in this cell \n",
    "bottle_of_juice = 6\n",
    "print( f\"I have {bottle_of_juice} bottles of juice today!\")"
   ]
  },
  {
   "cell_type": "markdown",
   "metadata": {
    "id": "uwFgJERGZtzZ"
   },
   "source": [
    "## 🍑🍑\n",
    "5.Considering that you decide to drink one of the fruit juices after defining this variable, you should subtract a number from the value of ```bottle_of_juice``` and then print ```bottle_of_juice``` again. "
   ]
  },
  {
   "cell_type": "code",
   "execution_count": 745,
   "metadata": {
    "id": "VH8hEyh4bvMc"
   },
   "outputs": [
    {
     "name": "stdout",
     "output_type": "stream",
     "text": [
      "I have 5 bottles of juice today!\n"
     ]
    }
   ],
   "source": [
    "# Write your own code in this cell \n",
    "bottle_of_juice -= 1\n",
    "print(f\"I have {bottle_of_juice} bottles of juice today!\")"
   ]
  },
  {
   "cell_type": "markdown",
   "metadata": {
    "id": "VfBp02D0b8Lz"
   },
   "source": [
    "## 🍑🍑\n",
    "6.Define a variable called ```f6``` and assign the value of **6!** (*factorial of 6*) as an integer to ```f6```   and then print the variable."
   ]
  },
  {
   "cell_type": "code",
   "execution_count": 746,
   "metadata": {
    "id": "Ouz2W8Ewe1kT"
   },
   "outputs": [
    {
     "name": "stdout",
     "output_type": "stream",
     "text": [
      "720\n"
     ]
    }
   ],
   "source": [
    "# Write your own code in this cell \n",
    "def f(x1):\n",
    "    factorial = 1\n",
    "    for i in range(x1):\n",
    "        factorial *= x1\n",
    "        x1 -= 1 \n",
    "    return factorial\n",
    "        \n",
    "f3 = 6\n",
    "f6 =f(f3)\n",
    "print(f6)"
   ]
  },
  {
   "cell_type": "markdown",
   "metadata": {
    "id": "M9F1S8DRhFy9"
   },
   "source": [
    "## 🍑🍑\n",
    "7.Define a variable called ```my_reasons_to_live``` and explain your reasons as a string, then print this variable. "
   ]
  },
  {
   "cell_type": "code",
   "execution_count": 747,
   "metadata": {
    "id": "amU3rL6fhhMx",
    "scrolled": true
   },
   "outputs": [
    {
     "name": "stdout",
     "output_type": "stream",
     "text": [
      "Curiosity and family\n"
     ]
    }
   ],
   "source": [
    "# Write your own code in this cell\n",
    "my_reasons_to_live = \"Curiosity and family\"\n",
    "print(my_reasons_to_live)"
   ]
  },
  {
   "cell_type": "markdown",
   "metadata": {
    "id": "pcm93o5jhk9_"
   },
   "source": [
    "\n",
    "## 🍑🍑\n",
    "8.Let's define a variable called ```milk_price```. At first you think that the price of milk for each bottle is 10,000 tomans, but very soon during the code you realize that the price of milk has increased by 25% this week, so in the new line of code you have to set the price of milk at 12,500 and finally print ```milk_price``` ."
   ]
  },
  {
   "cell_type": "code",
   "execution_count": 748,
   "metadata": {
    "id": "9hk8mHanjpLg"
   },
   "outputs": [
    {
     "name": "stdout",
     "output_type": "stream",
     "text": [
      "price of milk for each bottle is 12500.0 tomans\n"
     ]
    }
   ],
   "source": [
    "# Write your own code in this cell\n",
    "milk_price = 10000\n",
    "milk_price *= 1.25\n",
    "print(f\"price of milk for each bottle is {milk_price} tomans\")\n"
   ]
  },
  {
   "cell_type": "markdown",
   "metadata": {
    "id": "tDEsmeL9jtqv"
   },
   "source": [
    "## 🍑🍑\n",
    "9.Consider the number **6869** and determine whether it is a *prime* number or not(True or False). Define a variable called ```is_6869_prime``` and set its value to **True** or **False** and then print the variable."
   ]
  },
  {
   "cell_type": "code",
   "execution_count": 749,
   "metadata": {
    "id": "0XPSGWOalTMI",
    "scrolled": true
   },
   "outputs": [
    {
     "name": "stdout",
     "output_type": "stream",
     "text": [
      "True\n"
     ]
    }
   ],
   "source": [
    "# Write your own code in this cell \n",
    "is_13_prime = True\n",
    "print(is_13_prime)"
   ]
  },
  {
   "cell_type": "code",
   "execution_count": 735,
   "metadata": {},
   "outputs": [],
   "source": [
    "def prime_num_indicator():\n",
    "    var = input(\"What number do you want to check if it is prime or not? \")\n",
    "    final = int(''.join((ch if ch in '0123456789.-e' else ' ') for ch in var).split()[0])\n",
    "    myVars = locals()\n",
    "    myVars.__setitem__(var, final)\n",
    "    if (final < 0):\n",
    "        print(\"please enter an positive number\")\n",
    "    elif (0 <= final <= 1):\n",
    "        final = False     \n",
    "    else:\n",
    "        final1= range(2,final)\n",
    "        for g in final1:\n",
    "            if (final % g == 0):\n",
    "                final=False\n",
    "                break\n",
    "        else:\n",
    "            final=True\n",
    "    print(\"{} is {}\".format(var, final))\n",
    "    if not var in globals().keys():\n",
    "        return globals().update([(var, final)])"
   ]
  },
  {
   "cell_type": "code",
   "execution_count": 737,
   "metadata": {},
   "outputs": [
    {
     "name": "stdout",
     "output_type": "stream",
     "text": [
      "What number do you want to check if it is prime or not? is_6869_prime\n",
      "is_6869_prime is True\n"
     ]
    }
   ],
   "source": [
    "prime_num_indicator()"
   ]
  },
  {
   "cell_type": "code",
   "execution_count": 738,
   "metadata": {},
   "outputs": [
    {
     "data": {
      "text/plain": [
       "True"
      ]
     },
     "execution_count": 738,
     "metadata": {},
     "output_type": "execute_result"
    }
   ],
   "source": [
    "is_6869_prime"
   ]
  },
  {
   "cell_type": "markdown",
   "metadata": {
    "id": "Ce89J7gTmBmO"
   },
   "source": [
    "## 🍑\n",
    "10.Print the **type** of variables ```f6``` ,  ```my_reasons_to_live``` , ```milk_price``` , ```is_6869_prime``` using the **type()**function. \n",
    "\n",
    "\n",
    "\n"
   ]
  },
  {
   "cell_type": "code",
   "execution_count": 750,
   "metadata": {},
   "outputs": [
    {
     "data": {
      "text/plain": [
       "str"
      ]
     },
     "execution_count": 750,
     "metadata": {},
     "output_type": "execute_result"
    }
   ],
   "source": [
    "type(my_reasons_to_live)"
   ]
  },
  {
   "cell_type": "code",
   "execution_count": 752,
   "metadata": {},
   "outputs": [
    {
     "data": {
      "text/plain": [
       "int"
      ]
     },
     "execution_count": 752,
     "metadata": {},
     "output_type": "execute_result"
    }
   ],
   "source": [
    "type(f6)"
   ]
  },
  {
   "cell_type": "code",
   "execution_count": 460,
   "metadata": {},
   "outputs": [
    {
     "data": {
      "text/plain": [
       "float"
      ]
     },
     "execution_count": 460,
     "metadata": {},
     "output_type": "execute_result"
    }
   ],
   "source": [
    "type(milk_price)"
   ]
  },
  {
   "cell_type": "code",
   "execution_count": 461,
   "metadata": {},
   "outputs": [
    {
     "data": {
      "text/plain": [
       "bool"
      ]
     },
     "execution_count": 461,
     "metadata": {},
     "output_type": "execute_result"
    }
   ],
   "source": [
    "type(is_6869_prime)"
   ]
  }
 ],
 "metadata": {
  "colab": {
   "collapsed_sections": [],
   "name": "01-PyExc.ipynb",
   "provenance": []
  },
  "kernelspec": {
   "display_name": "Python 3 (ipykernel)",
   "language": "python",
   "name": "python3"
  },
  "language_info": {
   "codemirror_mode": {
    "name": "ipython",
    "version": 3
   },
   "file_extension": ".py",
   "mimetype": "text/x-python",
   "name": "python",
   "nbconvert_exporter": "python",
   "pygments_lexer": "ipython3",
   "version": "3.8.16"
  }
 },
 "nbformat": 4,
 "nbformat_minor": 4
}
